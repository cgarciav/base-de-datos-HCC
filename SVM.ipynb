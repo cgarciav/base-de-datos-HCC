{
  "nbformat": 4,
  "nbformat_minor": 0,
  "metadata": {
    "colab": {
      "name": "SVM",
      "provenance": [],
      "collapsed_sections": [],
      "include_colab_link": true
    },
    "kernelspec": {
      "name": "python3",
      "display_name": "Python 3"
    },
    "language_info": {
      "codemirror_mode": {
        "name": "ipython",
        "version": 3
      },
      "file_extension": ".py",
      "mimetype": "text/x-python",
      "name": "python",
      "nbconvert_exporter": "python",
      "pygments_lexer": "ipython3",
      "version": "3.5.2"
    }
  },
  "cells": [
    {
      "cell_type": "markdown",
      "metadata": {
        "id": "view-in-github",
        "colab_type": "text"
      },
      "source": [
        "<a href=\"https://colab.research.google.com/github/cgarciav/base-de-datos-HCC/blob/master/SVM.ipynb\" target=\"_parent\"><img src=\"https://colab.research.google.com/assets/colab-badge.svg\" alt=\"Open In Colab\"/></a>"
      ]
    },
    {
      "cell_type": "code",
      "metadata": {
        "colab_type": "code",
        "id": "0trJmd6DjqBZ",
        "colab": {}
      },
      "source": [
        "from __future__ import absolute_import, division, print_function, unicode_literals\n",
        "#%load_ext tensorboard    Carga de Tensorboard (opcional)\n",
        "# Install TensorFlow\n",
        "try:\n",
        "  # %tensorflow_version only exists in Colab.\n",
        "  %tensorflow_version 2.x\n",
        "except Exception:\n",
        "  pass\n",
        "\n",
        "import tensorflow as tf #libreria de google que permite hacer deeplearning\n",
        "from tensorflow import keras #libreria de alto nivel\n",
        "import matplotlib.pyplot as plt\n",
        "from datetime import datetime\n",
        "import numpy as np\n",
        "import random\n",
        "import pandas as pd"
      ],
      "execution_count": 0,
      "outputs": []
    },
    {
      "cell_type": "code",
      "metadata": {
        "id": "oy1zeZZKzz1a",
        "colab_type": "code",
        "outputId": "a3a5cd2a-7312-4301-e905-98a02b6864a1",
        "colab": {
          "base_uri": "https://localhost:8080/",
          "height": 35
        }
      },
      "source": [
        "from google.colab import drive\n",
        "drive.mount('/content/drive', force_remount=True)"
      ],
      "execution_count": 2,
      "outputs": [
        {
          "output_type": "stream",
          "text": [
            "Mounted at /content/drive\n"
          ],
          "name": "stdout"
        }
      ]
    },
    {
      "cell_type": "code",
      "metadata": {
        "id": "c1f0yD9S0Cbh",
        "colab_type": "code",
        "colab": {}
      },
      "source": [
        "path='/content/drive/My Drive/analisis de datos/hcc-data-complete-balanced.csv'\n",
        "df=pd.read_csv(path)"
      ],
      "execution_count": 0,
      "outputs": []
    },
    {
      "cell_type": "code",
      "metadata": {
        "id": "fuapQ4XKobi_",
        "colab_type": "code",
        "outputId": "81e17891-3cf9-4e80-d2d4-be38ca5ceff3",
        "colab": {
          "base_uri": "https://localhost:8080/",
          "height": 419
        }
      },
      "source": [
        "df"
      ],
      "execution_count": 4,
      "outputs": [
        {
          "output_type": "execute_result",
          "data": {
            "text/html": [
              "<div>\n",
              "<style scoped>\n",
              "    .dataframe tbody tr th:only-of-type {\n",
              "        vertical-align: middle;\n",
              "    }\n",
              "\n",
              "    .dataframe tbody tr th {\n",
              "        vertical-align: top;\n",
              "    }\n",
              "\n",
              "    .dataframe thead th {\n",
              "        text-align: right;\n",
              "    }\n",
              "</style>\n",
              "<table border=\"1\" class=\"dataframe\">\n",
              "  <thead>\n",
              "    <tr style=\"text-align: right;\">\n",
              "      <th></th>\n",
              "      <th>Gender</th>\n",
              "      <th>Symptoms</th>\n",
              "      <th>Alcohol</th>\n",
              "      <th>HBsAg</th>\n",
              "      <th>HBeAg</th>\n",
              "      <th>HBcAb</th>\n",
              "      <th>HCVAb</th>\n",
              "      <th>Cirrhosis</th>\n",
              "      <th>Endemic</th>\n",
              "      <th>Smoking</th>\n",
              "      <th>Diabetes</th>\n",
              "      <th>Obesity</th>\n",
              "      <th>Hemochro</th>\n",
              "      <th>AHT</th>\n",
              "      <th>CRI</th>\n",
              "      <th>HIV</th>\n",
              "      <th>NASH</th>\n",
              "      <th>Varices</th>\n",
              "      <th>Spleno</th>\n",
              "      <th>PHT</th>\n",
              "      <th>PVT</th>\n",
              "      <th>Metastasis</th>\n",
              "      <th>Hallmark</th>\n",
              "      <th>Age</th>\n",
              "      <th>Grams_day</th>\n",
              "      <th>Packs_year</th>\n",
              "      <th>PS</th>\n",
              "      <th>Encephalopathy</th>\n",
              "      <th>Ascites</th>\n",
              "      <th>INR</th>\n",
              "      <th>AFP</th>\n",
              "      <th>Hemoglobin</th>\n",
              "      <th>MCV</th>\n",
              "      <th>Leucocytes</th>\n",
              "      <th>Platelets</th>\n",
              "      <th>Albumin</th>\n",
              "      <th>Total_Bil</th>\n",
              "      <th>ALT</th>\n",
              "      <th>AST</th>\n",
              "      <th>GGT</th>\n",
              "      <th>ALP</th>\n",
              "      <th>TP</th>\n",
              "      <th>Creatinine</th>\n",
              "      <th>Nodule</th>\n",
              "      <th>Major_Dim</th>\n",
              "      <th>Dir_Bil</th>\n",
              "      <th>Iron</th>\n",
              "      <th>Sat</th>\n",
              "      <th>Ferritin</th>\n",
              "      <th>Class</th>\n",
              "    </tr>\n",
              "  </thead>\n",
              "  <tbody>\n",
              "    <tr>\n",
              "      <th>0</th>\n",
              "      <td>1</td>\n",
              "      <td>0</td>\n",
              "      <td>1</td>\n",
              "      <td>0</td>\n",
              "      <td>0</td>\n",
              "      <td>0</td>\n",
              "      <td>0</td>\n",
              "      <td>1</td>\n",
              "      <td>0</td>\n",
              "      <td>1</td>\n",
              "      <td>1</td>\n",
              "      <td>0</td>\n",
              "      <td>1</td>\n",
              "      <td>0</td>\n",
              "      <td>0</td>\n",
              "      <td>0</td>\n",
              "      <td>0</td>\n",
              "      <td>1</td>\n",
              "      <td>0</td>\n",
              "      <td>0</td>\n",
              "      <td>0</td>\n",
              "      <td>0</td>\n",
              "      <td>1</td>\n",
              "      <td>67</td>\n",
              "      <td>137</td>\n",
              "      <td>15.0</td>\n",
              "      <td>0</td>\n",
              "      <td>1</td>\n",
              "      <td>1</td>\n",
              "      <td>1.53</td>\n",
              "      <td>95.0</td>\n",
              "      <td>13.7</td>\n",
              "      <td>106.6</td>\n",
              "      <td>4.9</td>\n",
              "      <td>99.00</td>\n",
              "      <td>3.40</td>\n",
              "      <td>2.10</td>\n",
              "      <td>34</td>\n",
              "      <td>41</td>\n",
              "      <td>183</td>\n",
              "      <td>150</td>\n",
              "      <td>7.1</td>\n",
              "      <td>0.70</td>\n",
              "      <td>1</td>\n",
              "      <td>3.5</td>\n",
              "      <td>0.50</td>\n",
              "      <td>52.5</td>\n",
              "      <td>37.0</td>\n",
              "      <td>856.0</td>\n",
              "      <td>1</td>\n",
              "    </tr>\n",
              "    <tr>\n",
              "      <th>1</th>\n",
              "      <td>0</td>\n",
              "      <td>0</td>\n",
              "      <td>0</td>\n",
              "      <td>0</td>\n",
              "      <td>0</td>\n",
              "      <td>0</td>\n",
              "      <td>1</td>\n",
              "      <td>1</td>\n",
              "      <td>0</td>\n",
              "      <td>1</td>\n",
              "      <td>1</td>\n",
              "      <td>0</td>\n",
              "      <td>0</td>\n",
              "      <td>1</td>\n",
              "      <td>0</td>\n",
              "      <td>0</td>\n",
              "      <td>0</td>\n",
              "      <td>1</td>\n",
              "      <td>0</td>\n",
              "      <td>0</td>\n",
              "      <td>0</td>\n",
              "      <td>0</td>\n",
              "      <td>1</td>\n",
              "      <td>62</td>\n",
              "      <td>0</td>\n",
              "      <td>0.0</td>\n",
              "      <td>0</td>\n",
              "      <td>1</td>\n",
              "      <td>1</td>\n",
              "      <td>1.24</td>\n",
              "      <td>2.6</td>\n",
              "      <td>10.3</td>\n",
              "      <td>83.0</td>\n",
              "      <td>6.1</td>\n",
              "      <td>1.71</td>\n",
              "      <td>3.90</td>\n",
              "      <td>0.80</td>\n",
              "      <td>11</td>\n",
              "      <td>28</td>\n",
              "      <td>77</td>\n",
              "      <td>120</td>\n",
              "      <td>7.0</td>\n",
              "      <td>0.58</td>\n",
              "      <td>1</td>\n",
              "      <td>1.8</td>\n",
              "      <td>0.85</td>\n",
              "      <td>32.0</td>\n",
              "      <td>10.0</td>\n",
              "      <td>18.0</td>\n",
              "      <td>1</td>\n",
              "    </tr>\n",
              "    <tr>\n",
              "      <th>2</th>\n",
              "      <td>1</td>\n",
              "      <td>0</td>\n",
              "      <td>1</td>\n",
              "      <td>1</td>\n",
              "      <td>0</td>\n",
              "      <td>1</td>\n",
              "      <td>0</td>\n",
              "      <td>1</td>\n",
              "      <td>0</td>\n",
              "      <td>1</td>\n",
              "      <td>0</td>\n",
              "      <td>0</td>\n",
              "      <td>0</td>\n",
              "      <td>1</td>\n",
              "      <td>1</td>\n",
              "      <td>0</td>\n",
              "      <td>0</td>\n",
              "      <td>0</td>\n",
              "      <td>0</td>\n",
              "      <td>1</td>\n",
              "      <td>0</td>\n",
              "      <td>1</td>\n",
              "      <td>1</td>\n",
              "      <td>78</td>\n",
              "      <td>50</td>\n",
              "      <td>50.0</td>\n",
              "      <td>2</td>\n",
              "      <td>1</td>\n",
              "      <td>2</td>\n",
              "      <td>0.96</td>\n",
              "      <td>5.8</td>\n",
              "      <td>8.9</td>\n",
              "      <td>79.8</td>\n",
              "      <td>8.4</td>\n",
              "      <td>472.00</td>\n",
              "      <td>3.30</td>\n",
              "      <td>0.40</td>\n",
              "      <td>58</td>\n",
              "      <td>68</td>\n",
              "      <td>202</td>\n",
              "      <td>109</td>\n",
              "      <td>7.0</td>\n",
              "      <td>2.10</td>\n",
              "      <td>5</td>\n",
              "      <td>13.0</td>\n",
              "      <td>0.10</td>\n",
              "      <td>28.0</td>\n",
              "      <td>6.0</td>\n",
              "      <td>16.0</td>\n",
              "      <td>1</td>\n",
              "    </tr>\n",
              "    <tr>\n",
              "      <th>3</th>\n",
              "      <td>1</td>\n",
              "      <td>1</td>\n",
              "      <td>1</td>\n",
              "      <td>0</td>\n",
              "      <td>0</td>\n",
              "      <td>0</td>\n",
              "      <td>0</td>\n",
              "      <td>1</td>\n",
              "      <td>0</td>\n",
              "      <td>1</td>\n",
              "      <td>1</td>\n",
              "      <td>0</td>\n",
              "      <td>0</td>\n",
              "      <td>1</td>\n",
              "      <td>0</td>\n",
              "      <td>0</td>\n",
              "      <td>0</td>\n",
              "      <td>0</td>\n",
              "      <td>0</td>\n",
              "      <td>0</td>\n",
              "      <td>0</td>\n",
              "      <td>1</td>\n",
              "      <td>1</td>\n",
              "      <td>77</td>\n",
              "      <td>40</td>\n",
              "      <td>30.0</td>\n",
              "      <td>0</td>\n",
              "      <td>1</td>\n",
              "      <td>1</td>\n",
              "      <td>0.95</td>\n",
              "      <td>2440.0</td>\n",
              "      <td>13.4</td>\n",
              "      <td>97.1</td>\n",
              "      <td>9.0</td>\n",
              "      <td>279.00</td>\n",
              "      <td>3.70</td>\n",
              "      <td>0.40</td>\n",
              "      <td>16</td>\n",
              "      <td>64</td>\n",
              "      <td>94</td>\n",
              "      <td>174</td>\n",
              "      <td>8.1</td>\n",
              "      <td>1.11</td>\n",
              "      <td>2</td>\n",
              "      <td>15.7</td>\n",
              "      <td>0.20</td>\n",
              "      <td>131.0</td>\n",
              "      <td>78.0</td>\n",
              "      <td>1316.0</td>\n",
              "      <td>0</td>\n",
              "    </tr>\n",
              "    <tr>\n",
              "      <th>4</th>\n",
              "      <td>1</td>\n",
              "      <td>1</td>\n",
              "      <td>1</td>\n",
              "      <td>1</td>\n",
              "      <td>0</td>\n",
              "      <td>1</td>\n",
              "      <td>0</td>\n",
              "      <td>1</td>\n",
              "      <td>0</td>\n",
              "      <td>1</td>\n",
              "      <td>0</td>\n",
              "      <td>0</td>\n",
              "      <td>0</td>\n",
              "      <td>1</td>\n",
              "      <td>1</td>\n",
              "      <td>0</td>\n",
              "      <td>0</td>\n",
              "      <td>0</td>\n",
              "      <td>0</td>\n",
              "      <td>0</td>\n",
              "      <td>0</td>\n",
              "      <td>0</td>\n",
              "      <td>1</td>\n",
              "      <td>76</td>\n",
              "      <td>100</td>\n",
              "      <td>30.0</td>\n",
              "      <td>0</td>\n",
              "      <td>1</td>\n",
              "      <td>1</td>\n",
              "      <td>0.94</td>\n",
              "      <td>49.0</td>\n",
              "      <td>14.3</td>\n",
              "      <td>95.1</td>\n",
              "      <td>6.4</td>\n",
              "      <td>199.00</td>\n",
              "      <td>4.10</td>\n",
              "      <td>0.70</td>\n",
              "      <td>147</td>\n",
              "      <td>306</td>\n",
              "      <td>173</td>\n",
              "      <td>109</td>\n",
              "      <td>6.9</td>\n",
              "      <td>1.80</td>\n",
              "      <td>1</td>\n",
              "      <td>9.0</td>\n",
              "      <td>0.10</td>\n",
              "      <td>59.0</td>\n",
              "      <td>15.0</td>\n",
              "      <td>22.0</td>\n",
              "      <td>1</td>\n",
              "    </tr>\n",
              "    <tr>\n",
              "      <th>...</th>\n",
              "      <td>...</td>\n",
              "      <td>...</td>\n",
              "      <td>...</td>\n",
              "      <td>...</td>\n",
              "      <td>...</td>\n",
              "      <td>...</td>\n",
              "      <td>...</td>\n",
              "      <td>...</td>\n",
              "      <td>...</td>\n",
              "      <td>...</td>\n",
              "      <td>...</td>\n",
              "      <td>...</td>\n",
              "      <td>...</td>\n",
              "      <td>...</td>\n",
              "      <td>...</td>\n",
              "      <td>...</td>\n",
              "      <td>...</td>\n",
              "      <td>...</td>\n",
              "      <td>...</td>\n",
              "      <td>...</td>\n",
              "      <td>...</td>\n",
              "      <td>...</td>\n",
              "      <td>...</td>\n",
              "      <td>...</td>\n",
              "      <td>...</td>\n",
              "      <td>...</td>\n",
              "      <td>...</td>\n",
              "      <td>...</td>\n",
              "      <td>...</td>\n",
              "      <td>...</td>\n",
              "      <td>...</td>\n",
              "      <td>...</td>\n",
              "      <td>...</td>\n",
              "      <td>...</td>\n",
              "      <td>...</td>\n",
              "      <td>...</td>\n",
              "      <td>...</td>\n",
              "      <td>...</td>\n",
              "      <td>...</td>\n",
              "      <td>...</td>\n",
              "      <td>...</td>\n",
              "      <td>...</td>\n",
              "      <td>...</td>\n",
              "      <td>...</td>\n",
              "      <td>...</td>\n",
              "      <td>...</td>\n",
              "      <td>...</td>\n",
              "      <td>...</td>\n",
              "      <td>...</td>\n",
              "      <td>...</td>\n",
              "    </tr>\n",
              "    <tr>\n",
              "      <th>199</th>\n",
              "      <td>0</td>\n",
              "      <td>0</td>\n",
              "      <td>0</td>\n",
              "      <td>0</td>\n",
              "      <td>0</td>\n",
              "      <td>0</td>\n",
              "      <td>1</td>\n",
              "      <td>1</td>\n",
              "      <td>0</td>\n",
              "      <td>0</td>\n",
              "      <td>1</td>\n",
              "      <td>0</td>\n",
              "      <td>0</td>\n",
              "      <td>0</td>\n",
              "      <td>1</td>\n",
              "      <td>0</td>\n",
              "      <td>0</td>\n",
              "      <td>1</td>\n",
              "      <td>1</td>\n",
              "      <td>0</td>\n",
              "      <td>0</td>\n",
              "      <td>0</td>\n",
              "      <td>0</td>\n",
              "      <td>70</td>\n",
              "      <td>17</td>\n",
              "      <td>7.0</td>\n",
              "      <td>0</td>\n",
              "      <td>1</td>\n",
              "      <td>1</td>\n",
              "      <td>1.33</td>\n",
              "      <td>502.6</td>\n",
              "      <td>11.1</td>\n",
              "      <td>102.8</td>\n",
              "      <td>6.9</td>\n",
              "      <td>90846.80</td>\n",
              "      <td>3.18</td>\n",
              "      <td>2.67</td>\n",
              "      <td>102</td>\n",
              "      <td>126</td>\n",
              "      <td>389</td>\n",
              "      <td>117</td>\n",
              "      <td>7.0</td>\n",
              "      <td>5.25</td>\n",
              "      <td>2</td>\n",
              "      <td>8.8</td>\n",
              "      <td>1.35</td>\n",
              "      <td>73.3</td>\n",
              "      <td>46.0</td>\n",
              "      <td>873.0</td>\n",
              "      <td>0</td>\n",
              "    </tr>\n",
              "    <tr>\n",
              "      <th>200</th>\n",
              "      <td>0</td>\n",
              "      <td>1</td>\n",
              "      <td>1</td>\n",
              "      <td>0</td>\n",
              "      <td>0</td>\n",
              "      <td>0</td>\n",
              "      <td>0</td>\n",
              "      <td>1</td>\n",
              "      <td>0</td>\n",
              "      <td>0</td>\n",
              "      <td>1</td>\n",
              "      <td>0</td>\n",
              "      <td>0</td>\n",
              "      <td>0</td>\n",
              "      <td>0</td>\n",
              "      <td>0</td>\n",
              "      <td>0</td>\n",
              "      <td>0</td>\n",
              "      <td>0</td>\n",
              "      <td>1</td>\n",
              "      <td>0</td>\n",
              "      <td>0</td>\n",
              "      <td>1</td>\n",
              "      <td>80</td>\n",
              "      <td>107</td>\n",
              "      <td>13.0</td>\n",
              "      <td>3</td>\n",
              "      <td>2</td>\n",
              "      <td>2</td>\n",
              "      <td>1.35</td>\n",
              "      <td>2353.7</td>\n",
              "      <td>12.2</td>\n",
              "      <td>95.2</td>\n",
              "      <td>6.7</td>\n",
              "      <td>332033.67</td>\n",
              "      <td>3.26</td>\n",
              "      <td>1.07</td>\n",
              "      <td>24</td>\n",
              "      <td>56</td>\n",
              "      <td>229</td>\n",
              "      <td>231</td>\n",
              "      <td>6.5</td>\n",
              "      <td>0.78</td>\n",
              "      <td>2</td>\n",
              "      <td>7.6</td>\n",
              "      <td>1.04</td>\n",
              "      <td>69.3</td>\n",
              "      <td>23.0</td>\n",
              "      <td>70.0</td>\n",
              "      <td>0</td>\n",
              "    </tr>\n",
              "    <tr>\n",
              "      <th>201</th>\n",
              "      <td>1</td>\n",
              "      <td>1</td>\n",
              "      <td>1</td>\n",
              "      <td>0</td>\n",
              "      <td>0</td>\n",
              "      <td>0</td>\n",
              "      <td>0</td>\n",
              "      <td>1</td>\n",
              "      <td>0</td>\n",
              "      <td>0</td>\n",
              "      <td>0</td>\n",
              "      <td>0</td>\n",
              "      <td>0</td>\n",
              "      <td>0</td>\n",
              "      <td>0</td>\n",
              "      <td>0</td>\n",
              "      <td>0</td>\n",
              "      <td>0</td>\n",
              "      <td>0</td>\n",
              "      <td>1</td>\n",
              "      <td>0</td>\n",
              "      <td>0</td>\n",
              "      <td>1</td>\n",
              "      <td>80</td>\n",
              "      <td>86</td>\n",
              "      <td>0.0</td>\n",
              "      <td>3</td>\n",
              "      <td>1</td>\n",
              "      <td>1</td>\n",
              "      <td>1.55</td>\n",
              "      <td>23.4</td>\n",
              "      <td>10.2</td>\n",
              "      <td>96.3</td>\n",
              "      <td>7.4</td>\n",
              "      <td>195.76</td>\n",
              "      <td>2.93</td>\n",
              "      <td>3.22</td>\n",
              "      <td>66</td>\n",
              "      <td>68</td>\n",
              "      <td>469</td>\n",
              "      <td>304</td>\n",
              "      <td>7.0</td>\n",
              "      <td>1.07</td>\n",
              "      <td>1</td>\n",
              "      <td>12.0</td>\n",
              "      <td>1.57</td>\n",
              "      <td>71.2</td>\n",
              "      <td>29.0</td>\n",
              "      <td>106.0</td>\n",
              "      <td>0</td>\n",
              "    </tr>\n",
              "    <tr>\n",
              "      <th>202</th>\n",
              "      <td>1</td>\n",
              "      <td>1</td>\n",
              "      <td>1</td>\n",
              "      <td>0</td>\n",
              "      <td>0</td>\n",
              "      <td>0</td>\n",
              "      <td>0</td>\n",
              "      <td>1</td>\n",
              "      <td>0</td>\n",
              "      <td>0</td>\n",
              "      <td>1</td>\n",
              "      <td>0</td>\n",
              "      <td>0</td>\n",
              "      <td>1</td>\n",
              "      <td>1</td>\n",
              "      <td>0</td>\n",
              "      <td>0</td>\n",
              "      <td>1</td>\n",
              "      <td>1</td>\n",
              "      <td>1</td>\n",
              "      <td>0</td>\n",
              "      <td>1</td>\n",
              "      <td>1</td>\n",
              "      <td>74</td>\n",
              "      <td>124</td>\n",
              "      <td>0.0</td>\n",
              "      <td>3</td>\n",
              "      <td>2</td>\n",
              "      <td>1</td>\n",
              "      <td>1.33</td>\n",
              "      <td>6.1</td>\n",
              "      <td>13.0</td>\n",
              "      <td>86.0</td>\n",
              "      <td>1118.4</td>\n",
              "      <td>101884.41</td>\n",
              "      <td>3.31</td>\n",
              "      <td>1.45</td>\n",
              "      <td>29</td>\n",
              "      <td>48</td>\n",
              "      <td>203</td>\n",
              "      <td>197</td>\n",
              "      <td>7.2</td>\n",
              "      <td>1.08</td>\n",
              "      <td>5</td>\n",
              "      <td>3.0</td>\n",
              "      <td>0.63</td>\n",
              "      <td>94.4</td>\n",
              "      <td>83.0</td>\n",
              "      <td>859.0</td>\n",
              "      <td>0</td>\n",
              "    </tr>\n",
              "    <tr>\n",
              "      <th>203</th>\n",
              "      <td>0</td>\n",
              "      <td>1</td>\n",
              "      <td>0</td>\n",
              "      <td>0</td>\n",
              "      <td>0</td>\n",
              "      <td>0</td>\n",
              "      <td>0</td>\n",
              "      <td>0</td>\n",
              "      <td>0</td>\n",
              "      <td>0</td>\n",
              "      <td>0</td>\n",
              "      <td>0</td>\n",
              "      <td>0</td>\n",
              "      <td>1</td>\n",
              "      <td>1</td>\n",
              "      <td>0</td>\n",
              "      <td>0</td>\n",
              "      <td>0</td>\n",
              "      <td>0</td>\n",
              "      <td>0</td>\n",
              "      <td>0</td>\n",
              "      <td>1</td>\n",
              "      <td>1</td>\n",
              "      <td>82</td>\n",
              "      <td>0</td>\n",
              "      <td>1.0</td>\n",
              "      <td>1</td>\n",
              "      <td>1</td>\n",
              "      <td>1</td>\n",
              "      <td>1.09</td>\n",
              "      <td>798.9</td>\n",
              "      <td>11.4</td>\n",
              "      <td>89.4</td>\n",
              "      <td>193.2</td>\n",
              "      <td>317292.71</td>\n",
              "      <td>3.40</td>\n",
              "      <td>0.80</td>\n",
              "      <td>76</td>\n",
              "      <td>101</td>\n",
              "      <td>730</td>\n",
              "      <td>579</td>\n",
              "      <td>7.2</td>\n",
              "      <td>2.13</td>\n",
              "      <td>5</td>\n",
              "      <td>16.1</td>\n",
              "      <td>0.11</td>\n",
              "      <td>14.6</td>\n",
              "      <td>5.0</td>\n",
              "      <td>161.0</td>\n",
              "      <td>0</td>\n",
              "    </tr>\n",
              "  </tbody>\n",
              "</table>\n",
              "<p>204 rows × 50 columns</p>\n",
              "</div>"
            ],
            "text/plain": [
              "     Gender  Symptoms  Alcohol  HBsAg  ...   Iron   Sat  Ferritin  Class\n",
              "0         1         0        1      0  ...   52.5  37.0     856.0      1\n",
              "1         0         0        0      0  ...   32.0  10.0      18.0      1\n",
              "2         1         0        1      1  ...   28.0   6.0      16.0      1\n",
              "3         1         1        1      0  ...  131.0  78.0    1316.0      0\n",
              "4         1         1        1      1  ...   59.0  15.0      22.0      1\n",
              "..      ...       ...      ...    ...  ...    ...   ...       ...    ...\n",
              "199       0         0        0      0  ...   73.3  46.0     873.0      0\n",
              "200       0         1        1      0  ...   69.3  23.0      70.0      0\n",
              "201       1         1        1      0  ...   71.2  29.0     106.0      0\n",
              "202       1         1        1      0  ...   94.4  83.0     859.0      0\n",
              "203       0         1        0      0  ...   14.6   5.0     161.0      0\n",
              "\n",
              "[204 rows x 50 columns]"
            ]
          },
          "metadata": {
            "tags": []
          },
          "execution_count": 4
        }
      ]
    },
    {
      "cell_type": "code",
      "metadata": {
        "id": "rXiEjHSA3oZh",
        "colab_type": "code",
        "colab": {}
      },
      "source": [
        "from sklearn.model_selection import train_test_split\n",
        "from sklearn.pipeline import Pipeline\n",
        "from sklearn import preprocessing\n",
        "from sklearn.preprocessing import StandardScaler"
      ],
      "execution_count": 0,
      "outputs": []
    },
    {
      "cell_type": "code",
      "metadata": {
        "id": "klZLokVJ3rY1",
        "colab_type": "code",
        "colab": {}
      },
      "source": [
        "x = df.drop(['Class'], axis=1) \n",
        "y=df['Class']\n",
        "x_train, x_test, y_train, y_test = train_test_split(x, y,stratify=y, test_size=0.2, random_state=42)"
      ],
      "execution_count": 0,
      "outputs": []
    },
    {
      "cell_type": "code",
      "metadata": {
        "id": "ECk6p-SO3rwa",
        "colab_type": "code",
        "colab": {}
      },
      "source": [
        "#normalizamos datos\n",
        "from sklearn import preprocessing\n",
        "\n",
        "scaler=preprocessing.StandardScaler().fit(x_train)\n",
        "\n",
        "x_train_transformed=scaler.transform(x_train)\n",
        "x_test_transformed=scaler.transform(x_test)\n"
      ],
      "execution_count": 0,
      "outputs": []
    },
    {
      "cell_type": "markdown",
      "metadata": {
        "id": "nWHSB_151OEp",
        "colab_type": "text"
      },
      "source": [
        "**Modelo basado en una Máquina de Vectores Soporte sobre el espacio original**"
      ]
    },
    {
      "cell_type": "code",
      "metadata": {
        "id": "XBTyEdER_8K5",
        "colab_type": "code",
        "colab": {}
      },
      "source": [
        "from sklearn.metrics import confusion_matrix\n",
        "from sklearn import svm\n",
        "from sklearn.svm import SVC\n",
        "from sklearn.model_selection import cross_val_score,KFold\n",
        "from sklearn.metrics import roc_auc_score\n"
      ],
      "execution_count": 0,
      "outputs": []
    },
    {
      "cell_type": "code",
      "metadata": {
        "id": "vFhcUAhdIoVM",
        "colab_type": "code",
        "outputId": "d7b0eb40-2691-43d4-9129-01f597eccaf7",
        "colab": {
          "base_uri": "https://localhost:8080/",
          "height": 316
        }
      },
      "source": [
        "c_values=np.logspace(-4,4, 10)\n",
        "cv_c_scores=[]\n",
        "\n",
        "\n",
        "for k in c_values:\n",
        "\n",
        "    clf = svm.LinearSVC(C=k, max_iter=1000000)\n",
        "    scores = cross_val_score(clf, x_train_transformed, y_train, cv=10 , scoring='roc_auc') #aplicamos cross validation\n",
        "    cv_c_scores.append(scores.mean())\n",
        "    \n",
        "\n",
        "# Do the plotting\n",
        "import matplotlib.pyplot as plt\n",
        "plt.figure()\n",
        "\n",
        "plt.semilogx(c_values,cv_c_scores,color='r' , marker='*' , label='cv')\n",
        "#locs, labels = plt.yticks()\n",
        "#plt.yticks(locs, list(map(lambda x: \"%g\" % x, locs)))\n",
        "plt.ylabel('score')\n",
        "plt.xlabel('Parameter C')\n",
        "plt.title('Gráfica ajuste de SVM')\n",
        "plt.show()\n",
        "\n",
        "\n",
        "#select the maximum because we are considering accuracy\n",
        "c_opt=(np.array(c_values)[cv_c_scores.index(np.array(cv_c_scores).max())])\n",
        "c_opt\n",
        "#obtengo valor maximo que tengo que usar para mi clasificador(k)   "
      ],
      "execution_count": 9,
      "outputs": [
        {
          "output_type": "display_data",
          "data": {
            "image/png": "[encoded data removed]",
            "text/plain": [
              "<Figure size 432x288 with 1 Axes>"
            ]
          },
          "metadata": {
            "tags": [],
            "needs_background": "light"
          }
        },
        {
          "output_type": "execute_result",
          "data": {
            "text/plain": [
              "0.046415888336127774"
            ]
          },
          "metadata": {
            "tags": []
          },
          "execution_count": 9
        }
      ]
    },
    {
      "cell_type": "code",
      "metadata": {
        "id": "isLM9-ZxIod7",
        "colab_type": "code",
        "colab": {}
      },
      "source": [
        "#entrenamos nuestro modelo\n",
        "clf = svm.LinearSVC(C=c_opt).fit(x_train_transformed,y_train)"
      ],
      "execution_count": 0,
      "outputs": []
    },
    {
      "cell_type": "code",
      "metadata": {
        "id": "mGb_Hva6Ioh5",
        "colab_type": "code",
        "outputId": "09bcaa41-9a41-4b99-f23b-42b4e9c6484f",
        "colab": {
          "base_uri": "https://localhost:8080/",
          "height": 413
        }
      },
      "source": [
        "from sklearn.metrics import classification_report\n",
        "\n",
        "y_pred=clf.predict(x_test_transformed)\n",
        "prestations=classification_report(y_test,y_pred)\n",
        "print(prestations)\n",
        "\n",
        "print('score:', clf.score(x_test_transformed, y_test))\n",
        "print ('AUC:', roc_auc_score(y_test,y_pred))\n",
        "\n",
        "print('\\n \\n Matriz de confusion: ')\n",
        "matriz= pd.crosstab(y_test,y_pred,rownames=['Real'], colnames=['Predicted'], margins= True)\n",
        "matriz"
      ],
      "execution_count": 11,
      "outputs": [
        {
          "output_type": "stream",
          "text": [
            "              precision    recall  f1-score   support\n",
            "\n",
            "           0       0.77      0.81      0.79        21\n",
            "           1       0.79      0.75      0.77        20\n",
            "\n",
            "    accuracy                           0.78        41\n",
            "   macro avg       0.78      0.78      0.78        41\n",
            "weighted avg       0.78      0.78      0.78        41\n",
            "\n",
            "score: 0.7804878048780488\n",
            "AUC: 0.7797619047619048\n",
            "\n",
            " \n",
            " Matriz de confusion: \n"
          ],
          "name": "stdout"
        },
        {
          "output_type": "execute_result",
          "data": {
            "text/html": [
              "<div>\n",
              "<style scoped>\n",
              "    .dataframe tbody tr th:only-of-type {\n",
              "        vertical-align: middle;\n",
              "    }\n",
              "\n",
              "    .dataframe tbody tr th {\n",
              "        vertical-align: top;\n",
              "    }\n",
              "\n",
              "    .dataframe thead th {\n",
              "        text-align: right;\n",
              "    }\n",
              "</style>\n",
              "<table border=\"1\" class=\"dataframe\">\n",
              "  <thead>\n",
              "    <tr style=\"text-align: right;\">\n",
              "      <th>Predicted</th>\n",
              "      <th>0</th>\n",
              "      <th>1</th>\n",
              "      <th>All</th>\n",
              "    </tr>\n",
              "    <tr>\n",
              "      <th>Real</th>\n",
              "      <th></th>\n",
              "      <th></th>\n",
              "      <th></th>\n",
              "    </tr>\n",
              "  </thead>\n",
              "  <tbody>\n",
              "    <tr>\n",
              "      <th>0</th>\n",
              "      <td>17</td>\n",
              "      <td>4</td>\n",
              "      <td>21</td>\n",
              "    </tr>\n",
              "    <tr>\n",
              "      <th>1</th>\n",
              "      <td>5</td>\n",
              "      <td>15</td>\n",
              "      <td>20</td>\n",
              "    </tr>\n",
              "    <tr>\n",
              "      <th>All</th>\n",
              "      <td>22</td>\n",
              "      <td>19</td>\n",
              "      <td>41</td>\n",
              "    </tr>\n",
              "  </tbody>\n",
              "</table>\n",
              "</div>"
            ],
            "text/plain": [
              "Predicted   0   1  All\n",
              "Real                  \n",
              "0          17   4   21\n",
              "1           5  15   20\n",
              "All        22  19   41"
            ]
          },
          "metadata": {
            "tags": []
          },
          "execution_count": 11
        }
      ]
    },
    {
      "cell_type": "markdown",
      "metadata": {
        "id": "ZamCP-g-VQTB",
        "colab_type": "text"
      },
      "source": [
        "SELECCIÓN DE CARACTERÍSTICAS"
      ]
    },
    {
      "cell_type": "code",
      "metadata": {
        "id": "Ujsw6Oz3bXvQ",
        "colab_type": "code",
        "outputId": "cb7045bc-2743-44f6-fcbf-75abb04977e8",
        "colab": {
          "base_uri": "https://localhost:8080/",
          "height": 248
        }
      },
      "source": [
        "coef= clf.coef_\n",
        "print(coef)"
      ],
      "execution_count": 12,
      "outputs": [
        {
          "output_type": "stream",
          "text": [
            "[[ 4.72665820e-02 -2.28879526e-01  3.05165334e-02  1.56251028e-01\n",
            "  -1.26113356e-03 -5.08241436e-02 -2.58855504e-02  8.38690753e-05\n",
            "   1.77277315e-01  1.84941006e-01 -2.63197594e-01  5.53636604e-02\n",
            "   1.03985745e-01  3.47419531e-01 -9.26060816e-02 -1.27813738e-01\n",
            "   2.44594337e-01 -1.00894263e-01  9.96509931e-02  5.67775384e-02\n",
            "  -1.97660588e-01 -1.11219246e-01  1.24429899e-01 -1.67331284e-01\n",
            "   2.43642320e-02 -2.15450208e-01 -1.60482492e-01  4.45344632e-02\n",
            "  -1.37014685e-01 -2.66146873e-01  1.11994583e-01  9.04077125e-02\n",
            "   5.92895202e-02 -1.02680900e-01 -5.68800499e-02 -4.30332100e-02\n",
            "  -6.60853015e-02  1.56154817e-01 -2.59228673e-01 -2.79613051e-02\n",
            "  -1.69350492e-01 -7.71935412e-02  1.20180448e-02 -8.33504433e-02\n",
            "  -2.32317646e-01 -3.29218837e-02  2.02934435e-02 -1.18148926e-01\n",
            "  -3.48755844e-01]]\n"
          ],
          "name": "stdout"
        }
      ]
    },
    {
      "cell_type": "code",
      "metadata": {
        "id": "O_ThXVVvep_R",
        "colab_type": "code",
        "outputId": "1c387607-d8c1-4d61-a111-2a148b448a6a",
        "colab": {
          "base_uri": "https://localhost:8080/",
          "height": 645
        }
      },
      "source": [
        "from sklearn import svm\n",
        "\n",
        "def feature_plot(classifier, feature_names, top_features=25):\n",
        " coef = classifier.coef_.ravel()\n",
        " top_positive_coefficients = np.argsort(coef)[-top_features:]\n",
        " top_negative_coefficients = np.argsort(coef)[:top_features]\n",
        " top_coefficients = np.hstack([top_negative_coefficients, top_positive_coefficients])\n",
        " plt.figure(figsize=(25,10))\n",
        " colors = ['green' if c < 0 else 'blue' for c in coef[top_coefficients]]\n",
        " plt.bar(np.arange(2 * top_features), coef[top_coefficients], color=colors)\n",
        " feature_names = np.array(feature_names)\n",
        " plt.xticks(np.arange(1 + 2 * top_features), feature_names[top_coefficients], rotation=45, ha='right')\n",
        " plt.show()\n",
        "\n",
        "#print(df.drop(['Class'], axis = 1).columns.values)\n",
        "\n",
        "clf = svm.LinearSVC(C=c_opt).fit(x_train_transformed,y_train)\n",
        "feature_plot(clf, df.drop(['Class'], axis = 1).columns.values)"
      ],
      "execution_count": 13,
      "outputs": [
        {
          "output_type": "display_data",
          "data": {
            "image/png": "[encoded data removed]",
            "text/plain": [
              "<Figure size 1800x720 with 1 Axes>"
            ]
          },
          "metadata": {
            "tags": [],
            "needs_background": "light"
          }
        }
      ]
    },
    {
      "cell_type": "markdown",
      "metadata": {
        "id": "RYxxYnG9Iwdr",
        "colab_type": "text"
      },
      "source": [
        " TRABAJAMOS CON MODELO SVM NO LINEAL PARA EL CONJUNTO DE TODAS LAS CARACTERÍSTICAS\n",
        "\n",
        "\n"
      ]
    },
    {
      "cell_type": "code",
      "metadata": {
        "id": "ueGwEAxTC6fl",
        "colab_type": "code",
        "colab": {}
      },
      "source": [
        "#probamos a trabajar con un svm no lineal \n",
        "from sklearn.svm import SVC"
      ],
      "execution_count": 0,
      "outputs": []
    },
    {
      "cell_type": "code",
      "metadata": {
        "id": "VIrCBye3EQI6",
        "colab_type": "code",
        "colab": {
          "base_uri": "https://localhost:8080/",
          "height": 316
        },
        "outputId": "a0c4054f-392d-4a5f-a1b7-af0383ff25ca"
      },
      "source": [
        "c_values=np.logspace(-4,4, 10)\n",
        "cv_c_scores=[]\n",
        "\n",
        "\n",
        "for k in c_values:\n",
        "\n",
        "    clf=SVC(kernel='rbf',C=k ,gamma='scale')\n",
        "    scores = cross_val_score(clf, x_train_transformed, y_train, cv=10 , scoring='roc_auc') #aplicamos cross validation\n",
        "    cv_c_scores.append(scores.mean())\n",
        "    \n",
        "\n",
        "\n",
        "  \n",
        "# Do the plotting\n",
        "import matplotlib.pyplot as plt\n",
        "plt.figure()\n",
        "\n",
        "plt.semilogx(c_values,cv_c_scores,color='r' , marker='*' , label='cv')\n",
        "#locs, labels = plt.yticks()\n",
        "#plt.yticks(locs, list(map(lambda x: \"%g\" % x, locs)))\n",
        "plt.ylabel('score')\n",
        "plt.xlabel('Parameter C')\n",
        "plt.title('Gráfica ajuste de SVM')\n",
        "plt.show()\n",
        "\n",
        "\n",
        "#select the maximum because we are considering accuracy\n",
        "c_opt=(np.array(c_values)[cv_c_scores.index(np.array(cv_c_scores).max())])\n",
        "c_opt\n",
        "#obtengo valor maximo que tengo que usar para mi clasificador(k)   "
      ],
      "execution_count": 15,
      "outputs": [
        {
          "output_type": "display_data",
          "data": {
            "image/png": "[encoded data removed]",
            "text/plain": [
              "<Figure size 432x288 with 1 Axes>"
            ]
          },
          "metadata": {
            "tags": [],
            "needs_background": "light"
          }
        },
        {
          "output_type": "execute_result",
          "data": {
            "text/plain": [
              "2.782559402207126"
            ]
          },
          "metadata": {
            "tags": []
          },
          "execution_count": 15
        }
      ]
    },
    {
      "cell_type": "code",
      "metadata": {
        "id": "utlL-FxQDGdx",
        "colab_type": "code",
        "colab": {
          "base_uri": "https://localhost:8080/",
          "height": 35
        },
        "outputId": "a600f834-0faa-4c8a-8d5f-6c52106d00f4"
      },
      "source": [
        "sigmakernel1=SVC(kernel='rbf',C=c_opt,gamma='scale')\n",
        "sigmakernel1.fit(x_train_transformed,np.ravel(y_train))\n",
        "\n",
        "y_pred=sigmakernel1.predict(x_test_transformed)\n",
        "matriz=confusion_matrix(y_test,y_pred)\n",
        "\n",
        "print ('AUC:', roc_auc_score(y_test,y_pred))\n"
      ],
      "execution_count": 17,
      "outputs": [
        {
          "output_type": "stream",
          "text": [
            "AUC: 0.8511904761904762\n"
          ],
          "name": "stdout"
        }
      ]
    },
    {
      "cell_type": "markdown",
      "metadata": {
        "id": "jVX3hzGWdo0Y",
        "colab_type": "text"
      },
      "source": [
        "TRABAJO CON CARACTERÍSTICAS SELECCIONADAS"
      ]
    },
    {
      "cell_type": "code",
      "metadata": {
        "id": "USOggrnhdUaa",
        "colab_type": "code",
        "colab": {}
      },
      "source": [
        "x2=df[['ALP','Albumin','Ferritin','Age','Iron','Alcohol','Creatinine','Encephalopathy','Grams_day','Obesity','Gender','MCV','PHT','Hemoglobin','Spleno','AFP','Hemochro','Hallmark','Endemic','Smoking','HBsAg','ALT','NASH','AHT' ]]\n",
        "#x2 = df[['Iron','Alcohol','Creatinine','Encephalopathy','Grams_day','Obesity','Gender','MCV','PHT','Hemoglobin','Spleno','AFP','Hemochro','Hallmark','Endemic','Smoking','HBsAg','ALT','NASH','AHT']] \n",
        "y2=df['Class']\n",
        "x_train, x_test, y_train, y_test = train_test_split(x2, y2,stratify=y, test_size=0.2, random_state=42)\n"
      ],
      "execution_count": 0,
      "outputs": []
    },
    {
      "cell_type": "code",
      "metadata": {
        "id": "3oxF5cn6f-Mk",
        "colab_type": "code",
        "colab": {}
      },
      "source": [
        "#normalizamos datos\n",
        "from sklearn import preprocessing\n",
        "\n",
        "scaler=preprocessing.StandardScaler().fit(x_train)\n",
        "\n",
        "x_train_transf=scaler.transform(x_train)\n",
        "x_test_transf=scaler.transform(x_test)\n"
      ],
      "execution_count": 0,
      "outputs": []
    },
    {
      "cell_type": "markdown",
      "metadata": {
        "id": "tgrorPw0JEq7",
        "colab_type": "text"
      },
      "source": [
        "TRABAJAMOS CON MODELO SVM LINEAL"
      ]
    },
    {
      "cell_type": "code",
      "metadata": {
        "id": "XHxciLkbph0D",
        "colab_type": "code",
        "outputId": "ab5c87b7-1042-4261-d126-a04319423c19",
        "colab": {
          "base_uri": "https://localhost:8080/",
          "height": 316
        }
      },
      "source": [
        "\n",
        "c_values=np.logspace(-6,6, 10)\n",
        "cv_c_scores=[]\n",
        "\n",
        "\n",
        "for k in c_values:\n",
        "\n",
        "    clf = svm.LinearSVC(C=k,dual=False, max_iter= 10000)\n",
        "    scores = cross_val_score(clf, x_train_transf, y_train, cv=50 ,scoring='roc_auc') #aplicamos cross validation\n",
        "    cv_c_scores.append(scores.mean())\n",
        "\n",
        "\n",
        "  \n",
        "# Do the plotting\n",
        "import matplotlib.pyplot as plt\n",
        "plt.figure()\n",
        "\n",
        "plt.semilogx(c_values,cv_c_scores,color='r' , marker='*' , label='cv')\n",
        "locs, labels = plt.yticks()\n",
        "#plt.yticks(locs, list(map(lambda x: \"%g\" % x, locs)))\n",
        "#plt.ylabel('accuracy')\n",
        "plt.xlabel('Parameter C')\n",
        "plt.title('Gráfica ajuste de SVM')\n",
        "plt.show()\n",
        "\n",
        "\n",
        "#select the maximum because we are considering accuracy\n",
        "c_opt2=(np.array(c_values)[cv_c_scores.index(np.array(cv_c_scores).max())])\n",
        "c_opt2\n",
        "#obtengo valor maximo que tengo que usar para mi clasificador(k)   "
      ],
      "execution_count": 46,
      "outputs": [
        {
          "output_type": "display_data",
          "data": {
            "image/png": "[encoded data removed]",
            "text/plain": [
              "<Figure size 432x288 with 1 Axes>"
            ]
          },
          "metadata": {
            "tags": [],
            "needs_background": "light"
          }
        },
        {
          "output_type": "execute_result",
          "data": {
            "text/plain": [
              "0.00046415888336127773"
            ]
          },
          "metadata": {
            "tags": []
          },
          "execution_count": 46
        }
      ]
    },
    {
      "cell_type": "code",
      "metadata": {
        "id": "8hcP7E9igSO4",
        "colab_type": "code",
        "colab": {}
      },
      "source": [
        "clf = svm.LinearSVC(C=c_opt2).fit(x_train_transf,y_train)\n"
      ],
      "execution_count": 0,
      "outputs": []
    },
    {
      "cell_type": "code",
      "metadata": {
        "id": "zbIZbE9ygSRv",
        "colab_type": "code",
        "outputId": "4e1ac839-03aa-48f4-d74f-80884198e3ba",
        "colab": {
          "base_uri": "https://localhost:8080/",
          "height": 413
        }
      },
      "source": [
        "from sklearn.metrics import classification_report\n",
        "\n",
        "y_pred=clf.predict(x_test_transf)\n",
        "prestations=classification_report(y_test,y_pred)\n",
        "print(prestations)\n",
        "\n",
        "print('score:', clf.score(x_test_transf, y_test))\n",
        "print ('AUC:', roc_auc_score(y_test,y_pred))\n",
        "\n",
        "print('\\n \\n Matriz de confusion: ')\n",
        "matriz= pd.crosstab(y_test,y_pred,rownames=['Real'], colnames=['Predicted'], margins= True)\n",
        "matriz"
      ],
      "execution_count": 48,
      "outputs": [
        {
          "output_type": "stream",
          "text": [
            "              precision    recall  f1-score   support\n",
            "\n",
            "           0       0.77      0.81      0.79        21\n",
            "           1       0.79      0.75      0.77        20\n",
            "\n",
            "    accuracy                           0.78        41\n",
            "   macro avg       0.78      0.78      0.78        41\n",
            "weighted avg       0.78      0.78      0.78        41\n",
            "\n",
            "score: 0.7804878048780488\n",
            "AUC: 0.7797619047619048\n",
            "\n",
            " \n",
            " Matriz de confusion: \n"
          ],
          "name": "stdout"
        },
        {
          "output_type": "execute_result",
          "data": {
            "text/html": [
              "<div>\n",
              "<style scoped>\n",
              "    .dataframe tbody tr th:only-of-type {\n",
              "        vertical-align: middle;\n",
              "    }\n",
              "\n",
              "    .dataframe tbody tr th {\n",
              "        vertical-align: top;\n",
              "    }\n",
              "\n",
              "    .dataframe thead th {\n",
              "        text-align: right;\n",
              "    }\n",
              "</style>\n",
              "<table border=\"1\" class=\"dataframe\">\n",
              "  <thead>\n",
              "    <tr style=\"text-align: right;\">\n",
              "      <th>Predicted</th>\n",
              "      <th>0</th>\n",
              "      <th>1</th>\n",
              "      <th>All</th>\n",
              "    </tr>\n",
              "    <tr>\n",
              "      <th>Real</th>\n",
              "      <th></th>\n",
              "      <th></th>\n",
              "      <th></th>\n",
              "    </tr>\n",
              "  </thead>\n",
              "  <tbody>\n",
              "    <tr>\n",
              "      <th>0</th>\n",
              "      <td>17</td>\n",
              "      <td>4</td>\n",
              "      <td>21</td>\n",
              "    </tr>\n",
              "    <tr>\n",
              "      <th>1</th>\n",
              "      <td>5</td>\n",
              "      <td>15</td>\n",
              "      <td>20</td>\n",
              "    </tr>\n",
              "    <tr>\n",
              "      <th>All</th>\n",
              "      <td>22</td>\n",
              "      <td>19</td>\n",
              "      <td>41</td>\n",
              "    </tr>\n",
              "  </tbody>\n",
              "</table>\n",
              "</div>"
            ],
            "text/plain": [
              "Predicted   0   1  All\n",
              "Real                  \n",
              "0          17   4   21\n",
              "1           5  15   20\n",
              "All        22  19   41"
            ]
          },
          "metadata": {
            "tags": []
          },
          "execution_count": 48
        }
      ]
    },
    {
      "cell_type": "code",
      "metadata": {
        "id": "ztO6XjtnCzse",
        "colab_type": "code",
        "colab": {}
      },
      "source": [
        "#probamos a trabajar con un SVM no lineal "
      ],
      "execution_count": 0,
      "outputs": []
    },
    {
      "cell_type": "code",
      "metadata": {
        "id": "sNNm2FAGL45O",
        "colab_type": "code",
        "colab": {}
      },
      "source": [
        "x2=df[['ALP','Albumin','Ferritin', 'Age', 'Iron','Alcohol','Creatinine','Encephalopathy','Grams_day','Obesity','Gender','MCV','PHT','Hemoglobin','Spleno','AFP','Hemochro','Hallmark','Endemic','Smoking','HBsAg','ALT','NASH','AHT' ]]\n",
        "#x2 = df[['Iron','Alcohol','Creatinine','Encephalopathy','Grams_day','Obesity','Gender','MCV','PHT','Hemoglobin','Spleno','AFP','Hemochro','Hallmark','Endemic','Smoking','HBsAg','ALT','NASH','AHT']] \n",
        "y2=df['Class']\n",
        "x_train, x_test, y_train, y_test = train_test_split(x2, y2,stratify=y, test_size=0.2, random_state=42)"
      ],
      "execution_count": 0,
      "outputs": []
    },
    {
      "cell_type": "code",
      "metadata": {
        "id": "W3SQIAcWL54t",
        "colab_type": "code",
        "colab": {}
      },
      "source": [
        "#normalizamos datos\n",
        "from sklearn import preprocessing\n",
        "\n",
        "scaler=preprocessing.StandardScaler().fit(x_train)\n",
        "\n",
        "x_train_transf=scaler.transform(x_train)\n",
        "x_test_transf=scaler.transform(x_test)"
      ],
      "execution_count": 0,
      "outputs": []
    },
    {
      "cell_type": "code",
      "metadata": {
        "id": "DpSryC4nCzzw",
        "colab_type": "code",
        "colab": {
          "base_uri": "https://localhost:8080/",
          "height": 316
        },
        "outputId": "59ba65e4-f910-4ff4-c1f9-4ceb4a80846c"
      },
      "source": [
        "c_values=np.logspace(-6,6, 10)\n",
        "cv_c_scores=[]\n",
        "\n",
        "\n",
        "for k in c_values:\n",
        "\n",
        "    clf=SVC(kernel='rbf',C=k ,gamma='scale')\n",
        "    scores = cross_val_score(clf, x_train_transf, y_train, cv=10 , scoring='roc_auc') #aplicamos cross validation\n",
        "    cv_c_scores.append(scores.mean())\n",
        "    \n",
        "     \n",
        "train_prec=[]\n",
        "c_values2=np.logspace(-6,6, 10)\n",
        "\n",
        "for k in c_values2 :\n",
        "    \n",
        "    clf=SVC(kernel='rbf',C=k,gamma='scale').fit(x_train_transf,y_train)\n",
        "    train_prec.append(clf.score(x_train_transf,y_train))\n",
        "\n",
        "\n",
        "  \n",
        "# Do the plotting\n",
        "import matplotlib.pyplot as plt\n",
        "plt.figure()\n",
        "\n",
        "plt.semilogx(c_values2,train_prec,color='b' , marker='*' , label='train')\n",
        "plt.semilogx(c_values,cv_c_scores,color='r' , marker='*' , label='cv')\n",
        "#locs, labels = plt.yticks()\n",
        "#plt.yticks(locs, list(map(lambda x: \"%g\" % x, locs)))\n",
        "plt.ylabel('AUC')\n",
        "plt.xlabel('Parameter C')\n",
        "plt.title('Gráfica ajuste de SVM')\n",
        "plt.show()\n",
        "\n",
        "\n",
        "#select the maximum because we are considering accuracy\n",
        "c_opt=(np.array(c_values)[cv_c_scores.index(np.array(cv_c_scores).max())])\n",
        "c_opt\n",
        "#obtengo valor maximo que tengo que usar para mi clasificador(k) "
      ],
      "execution_count": 37,
      "outputs": [
        {
          "output_type": "display_data",
          "data": {
            "image/png": "[encoded data removed]",
            "text/plain": [
              "<Figure size 432x288 with 1 Axes>"
            ]
          },
          "metadata": {
            "tags": [],
            "needs_background": "light"
          }
        },
        {
          "output_type": "execute_result",
          "data": {
            "text/plain": [
              "100.0"
            ]
          },
          "metadata": {
            "tags": []
          },
          "execution_count": 37
        }
      ]
    },
    {
      "cell_type": "code",
      "metadata": {
        "id": "u6fdt6K3Cz2h",
        "colab_type": "code",
        "colab": {
          "base_uri": "https://localhost:8080/",
          "height": 52
        },
        "outputId": "32894b6d-e5ec-4bb1-f1d9-01c3f73203fc"
      },
      "source": [
        "sigmakernel1=SVC(kernel='rbf',C=c_opt,gamma='scale')\n",
        "sigmakernel1.fit(x_train_transf,np.ravel(y_train))\n",
        "\n",
        "y_pred=sigmakernel1.predict(x_test_transf)\n",
        "matriz=confusion_matrix(y_test,y_pred)\n",
        "\n",
        "print ('AUC:', roc_auc_score(y_test,y_pred))\n"
      ],
      "execution_count": 38,
      "outputs": [
        {
          "output_type": "stream",
          "text": [
            "AUC: 0.7773809523809524\n",
            "score: 0.7804878048780488\n"
          ],
          "name": "stdout"
        }
      ]
    },
    {
      "cell_type": "code",
      "metadata": {
        "id": "dk4LCFAYCz5g",
        "colab_type": "code",
        "colab": {}
      },
      "source": [
        ""
      ],
      "execution_count": 0,
      "outputs": []
    },
    {
      "cell_type": "code",
      "metadata": {
        "id": "LiDm2KiXCz74",
        "colab_type": "code",
        "colab": {}
      },
      "source": [
        ""
      ],
      "execution_count": 0,
      "outputs": []
    }
  ]
}