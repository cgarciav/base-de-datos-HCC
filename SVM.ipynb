{
  "nbformat": 4,
  "nbformat_minor": 0,
  "metadata": {
    "colab": {
      "name": "SVM",
      "provenance": [],
      "collapsed_sections": [],
      "include_colab_link": true
    },
    "kernelspec": {
      "name": "python3",
      "display_name": "Python 3"
    },
    "language_info": {
      "codemirror_mode": {
        "name": "ipython",
        "version": 3
      },
      "file_extension": ".py",
      "mimetype": "text/x-python",
      "name": "python",
      "nbconvert_exporter": "python",
      "pygments_lexer": "ipython3",
      "version": "3.5.2"
    }
  },
  "cells": [
    {
      "cell_type": "markdown",
      "metadata": {
        "id": "view-in-github",
        "colab_type": "text"
      },
      "source": [
        "<a href=\"https://colab.research.google.com/github/cgarciav/base-de-datos-HCC/blob/master/SVM.ipynb\" target=\"_parent\"><img src=\"https://colab.research.google.com/assets/colab-badge.svg\" alt=\"Open In Colab\"/></a>"
      ]
    },
    {
      "cell_type": "code",
      "metadata": {
        "colab_type": "code",
        "id": "0trJmd6DjqBZ",
        "colab": {}
      },
      "source": [
        "from __future__ import absolute_import, division, print_function, unicode_literals\n",
        "#%load_ext tensorboard    Carga de Tensorboard (opcional)\n",
        "# Install TensorFlow\n",
        "try:\n",
        "  # %tensorflow_version only exists in Colab.\n",
        "  %tensorflow_version 2.x\n",
        "except Exception:\n",
        "  pass\n",
        "\n",
        "import tensorflow as tf #libreria de google que permite hacer deeplearning\n",
        "from tensorflow import keras #libreria de alto nivel\n",
        "import matplotlib.pyplot as plt\n",
        "from datetime import datetime\n",
        "import numpy as np\n",
        "import random\n",
        "import pandas as pd"
      ],
      "execution_count": 0,
      "outputs": []
    },
    {
      "cell_type": "code",
      "metadata": {
        "id": "oy1zeZZKzz1a",
        "colab_type": "code",
        "colab": {}
      },
      "source": [
        "from google.colab import drive\n",
        "drive.mount('/content/drive', force_remount=True)"
      ],
      "execution_count": 0,
      "outputs": []
    },
    {
      "cell_type": "code",
      "metadata": {
        "id": "c1f0yD9S0Cbh",
        "colab_type": "code",
        "colab": {}
      },
      "source": [
        "path='/content/drive/My Drive/analisis de datos/hcc-data-complete-balanced.csv'\n",
        "df=pd.read_csv(path)"
      ],
      "execution_count": 0,
      "outputs": []
    },
    {
      "cell_type": "code",
      "metadata": {
        "id": "fuapQ4XKobi_",
        "colab_type": "code",
        "colab": {}
      },
      "source": [
        "df"
      ],
      "execution_count": 0,
      "outputs": []
    },
    {
      "cell_type": "code",
      "metadata": {
        "id": "rXiEjHSA3oZh",
        "colab_type": "code",
        "colab": {}
      },
      "source": [
        "from sklearn.model_selection import train_test_split\n",
        "from sklearn.pipeline import Pipeline\n",
        "from sklearn import preprocessing\n",
        "from sklearn.preprocessing import StandardScaler"
      ],
      "execution_count": 0,
      "outputs": []
    },
    {
      "cell_type": "code",
      "metadata": {
        "id": "klZLokVJ3rY1",
        "colab_type": "code",
        "colab": {}
      },
      "source": [
        "x = df.drop(['Class'], axis=1) \n",
        "y=df['Class']\n",
        "x_train, x_test, y_train, y_test = train_test_split(x, y,stratify=y, test_size=0.2, random_state=42)"
      ],
      "execution_count": 0,
      "outputs": []
    },
    {
      "cell_type": "code",
      "metadata": {
        "id": "ECk6p-SO3rwa",
        "colab_type": "code",
        "colab": {}
      },
      "source": [
        "#normalizamos datos\n",
        "from sklearn import preprocessing\n",
        "\n",
        "scaler=preprocessing.StandardScaler().fit(x_train)\n",
        "\n",
        "x_train_transformed=scaler.transform(x_train)\n",
        "x_test_transformed=scaler.transform(x_test)\n",
        "\n",
        "y_train_transformed=y_train\n",
        "y_test_transformed=y_test"
      ],
      "execution_count": 0,
      "outputs": []
    },
    {
      "cell_type": "markdown",
      "metadata": {
        "id": "nWHSB_151OEp",
        "colab_type": "text"
      },
      "source": [
        "**Modelo basado en una Máquina de Vectores Soporte sobre el espacio original**"
      ]
    },
    {
      "cell_type": "code",
      "metadata": {
        "id": "XBTyEdER_8K5",
        "colab_type": "code",
        "colab": {}
      },
      "source": [
        "from sklearn.metrics import confusion_matrix\n",
        "from sklearn import svm\n",
        "from sklearn.svm import SVC\n",
        "from sklearn.model_selection import cross_val_score"
      ],
      "execution_count": 0,
      "outputs": []
    },
    {
      "cell_type": "code",
      "metadata": {
        "id": "vFhcUAhdIoVM",
        "colab_type": "code",
        "colab": {}
      },
      "source": [
        "c_values=np.logspace(-10,0, 10)\n",
        "cv_c_scores=[]\n",
        "\n",
        "\n",
        "for k in c_values:\n",
        "\n",
        "    clf = svm.LinearSVC(C=k, max_iter=100000)\n",
        "    scores = cross_val_score(clf, x_train_transformed, y_train, cv=10, scoring='accuracy') #aplicamos cross validation\n",
        "    cv_c_scores.append(scores.mean())\n",
        "    \n",
        "\n",
        "       \n",
        "\n",
        "train_prec=[]\n",
        "c_values2=np.logspace(-10,0, 10)\n",
        "\n",
        "for k in c_values2 :\n",
        "    \n",
        "    clf = svm.LinearSVC(C=k, max_iter=100000).fit(x_train_transformed,y_train)\n",
        "    train_prec.append(clf.score(x_train_transformed,y_train))\n",
        "\n",
        "\n",
        "  \n",
        "# Do the plotting\n",
        "import matplotlib.pyplot as plt\n",
        "plt.figure()\n",
        "\n",
        "plt.semilogx(c_values2,train_prec,color='b' , marker='*' , label=\"train\")\n",
        "plt.semilogx(c_values,cv_c_scores,color='r' , marker='*' , label=\"cv\")\n",
        "locs, labels = plt.yticks()\n",
        "plt.yticks(locs, list(map(lambda x: \"%g\" % x, locs)))\n",
        "plt.ylabel('accuracy')\n",
        "plt.xlabel('Parameter C')\n",
        "plt.title('Gráfica ajuste de SVM')\n",
        "plt.show()\n",
        "\n",
        "\n",
        "#select the maximum because we are considering accuracy\n",
        "c_opt=(np.array(c_values)[cv_c_scores.index(np.array(cv_c_scores).max())])\n",
        "c_opt\n",
        "#obtengo valor maximo que tengo que usar para mi clasificador(k)   "
      ],
      "execution_count": 0,
      "outputs": []
    },
    {
      "cell_type": "code",
      "metadata": {
        "id": "isLM9-ZxIod7",
        "colab_type": "code",
        "colab": {}
      },
      "source": [
        "#entrenamos nuestro modelo\n",
        " clf = svm.LinearSVC(C=c_opt).fit(x_train_transformed,y_train)"
      ],
      "execution_count": 0,
      "outputs": []
    },
    {
      "cell_type": "code",
      "metadata": {
        "id": "mGb_Hva6Ioh5",
        "colab_type": "code",
        "colab": {}
      },
      "source": [
        "from sklearn.metrics import classification_report\n",
        "\n",
        "y_pred=clf.predict(x_test_transformed)\n",
        "prestations=classification_report(y_test,y_pred)\n",
        "print(prestations)\n",
        "print('\\n \\n Matriz de confusion: ')\n",
        "matriz= pd.crosstab(y_test,y_pred,rownames=['Real'], colnames=['Predicted'], margins= True)\n",
        "matriz"
      ],
      "execution_count": 0,
      "outputs": []
    },
    {
      "cell_type": "code",
      "metadata": {
        "id": "NFDRsZOXZUEK",
        "colab_type": "code",
        "colab": {}
      },
      "source": [
        "def prestaciones(confusion):\n",
        "  precision=(confusion[0][0]+confusion[1][1])/(confusion[0][0]+confusion[0][1]+confusion[1][0]+confusion[1][1])\n",
        "  sensibilidad=(confusion[1][1])/(confusion[1][0]+confusion[1][1])\n",
        "  especificidad=(confusion[0][0])/(confusion[0][0]+confusion[0][1])\n",
        "  print('Especificidad: ', especificidad)\n",
        "  print('Sensibilidad: ', sensibilidad)\n",
        "  print('Precision: ', precision)"
      ],
      "execution_count": 0,
      "outputs": []
    },
    {
      "cell_type": "code",
      "metadata": {
        "id": "qDvHlGIMZVeo",
        "colab_type": "code",
        "colab": {}
      },
      "source": [
        "print(prestaciones(matriz))"
      ],
      "execution_count": 0,
      "outputs": []
    },
    {
      "cell_type": "code",
      "metadata": {
        "id": "Ujsw6Oz3bXvQ",
        "colab_type": "code",
        "colab": {}
      },
      "source": [
        "coef= clf.coef_\n",
        "print(coef)"
      ],
      "execution_count": 0,
      "outputs": []
    },
    {
      "cell_type": "markdown",
      "metadata": {
        "id": "ZamCP-g-VQTB",
        "colab_type": "text"
      },
      "source": [
        "SELECCIÓN DE CARACTERÍSTICAS"
      ]
    },
    {
      "cell_type": "code",
      "metadata": {
        "id": "O_ThXVVvep_R",
        "colab_type": "code",
        "colab": {}
      },
      "source": [
        "from sklearn import svm\n",
        "\n",
        "def feature_plot(classifier, feature_names, top_features=24):\n",
        " coef = classifier.coef_.ravel()\n",
        " top_positive_coefficients = np.argsort(coef)[-top_features:]\n",
        " top_negative_coefficients = np.argsort(coef)[:top_features]\n",
        " top_coefficients = np.hstack([top_negative_coefficients, top_positive_coefficients])\n",
        " plt.figure(figsize=(25,10))\n",
        " colors = ['green' if c < 0 else 'blue' for c in coef[top_coefficients]]\n",
        " plt.bar(np.arange(2 * top_features), coef[top_coefficients], color=colors)\n",
        " feature_names = np.array(feature_names)\n",
        " plt.xticks(np.arange(1 + 2 * top_features), feature_names[top_coefficients], rotation=45, ha='right')\n",
        " plt.show()\n",
        "\n",
        "#print(df.drop(['Class'], axis = 1).columns.values)\n",
        "\n",
        "clf = svm.LinearSVC(C=c_opt).fit(x_train_transformed,y_train)\n",
        "feature_plot(clf, df.drop(['Class'], axis = 1).columns.values)"
      ],
      "execution_count": 0,
      "outputs": []
    },
    {
      "cell_type": "markdown",
      "metadata": {
        "id": "jVX3hzGWdo0Y",
        "colab_type": "text"
      },
      "source": [
        "TRABAJO CON CARACTERÍSTICAS SELECCIONADAS"
      ]
    },
    {
      "cell_type": "code",
      "metadata": {
        "id": "USOggrnhdUaa",
        "colab_type": "code",
        "colab": {}
      },
      "source": [
        "x2 = df[['Cirrhosis','Iron','Alcohol','Creatinine','Encephalopathy','Grams_day','Obesity','Gender','MCV','PHT','Hemoglobin','Spleno','AFP','Hemochro','Hallmark','Endemic','Smoking','HBsAg','ALT','NASH','AHT']] \n",
        "y2=df['Class']\n",
        "x_train, x_test, y_train, y_test = train_test_split(x2, y2,stratify=y, test_size=0.2, random_state=42)\n"
      ],
      "execution_count": 0,
      "outputs": []
    },
    {
      "cell_type": "code",
      "metadata": {
        "id": "3oxF5cn6f-Mk",
        "colab_type": "code",
        "colab": {}
      },
      "source": [
        "#normalizamos datos\n",
        "from sklearn import preprocessing\n",
        "\n",
        "scaler=preprocessing.StandardScaler().fit(x_train)\n",
        "\n",
        "x_train_transformed=scaler.transform(x_train)\n",
        "x_test_transformed=scaler.transform(x_test)\n"
      ],
      "execution_count": 0,
      "outputs": []
    },
    {
      "cell_type": "code",
      "metadata": {
        "id": "8hcP7E9igSO4",
        "colab_type": "code",
        "colab": {}
      },
      "source": [
        "clf = svm.LinearSVC(penalty='l2', C=c_opt, max_iter=100000).fit(x_train_transformed,y_train)"
      ],
      "execution_count": 0,
      "outputs": []
    },
    {
      "cell_type": "code",
      "metadata": {
        "id": "zbIZbE9ygSRv",
        "colab_type": "code",
        "colab": {}
      },
      "source": [
        "from sklearn.metrics import classification_report\n",
        "\n",
        "y_pred=clf.predict(x_test_transformed)\n",
        "prestations=classification_report(y_test,y_pred)\n",
        "print(prestations)\n",
        "print('\\n \\n Matriz de confusion: ')\n",
        "matriz= pd.crosstab(y_test,y_pred,rownames=['Real'], colnames=['Predicted'], margins= True)\n",
        "matriz"
      ],
      "execution_count": 0,
      "outputs": []
    },
    {
      "cell_type": "code",
      "metadata": {
        "id": "JG6S5zw9gSU3",
        "colab_type": "code",
        "colab": {}
      },
      "source": [
        "print(prestaciones(matriz))"
      ],
      "execution_count": 0,
      "outputs": []
    }
  ]
}