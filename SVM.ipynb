{
  "nbformat": 4,
  "nbformat_minor": 0,
  "metadata": {
    "colab": {
      "name": "SVM",
      "provenance": [],
      "private_outputs": true,
      "collapsed_sections": []
    },
    "kernelspec": {
      "display_name": "Python 3",
      "name": "python3"
    },
    "language_info": {
      "codemirror_mode": {
        "name": "ipython",
        "version": 3
      },
      "file_extension": ".py",
      "mimetype": "text/x-python",
      "name": "python",
      "nbconvert_exporter": "python",
      "pygments_lexer": "ipython3",
      "version": "3.5.2"
    }
  },
  "cells": [
    {
      "cell_type": "code",
      "metadata": {
        "colab_type": "code",
        "id": "0trJmd6DjqBZ",
        "colab": {}
      },
      "source": [
        "from __future__ import absolute_import, division, print_function, unicode_literals\n",
        "#%load_ext tensorboard    Carga de Tensorboard (opcional)\n",
        "# Install TensorFlow\n",
        "try:\n",
        "  # %tensorflow_version only exists in Colab.\n",
        "  %tensorflow_version 2.x\n",
        "except Exception:\n",
        "  pass\n",
        "\n",
        "import tensorflow as tf #libreria de google que permite hacer deeplearning\n",
        "from tensorflow import keras #libreria de alto nivel\n",
        "import matplotlib.pyplot as plt\n",
        "from datetime import datetime\n",
        "import numpy as np\n",
        "import random\n",
        "import pandas as pd"
      ],
      "execution_count": 0,
      "outputs": []
    },
    {
      "cell_type": "code",
      "metadata": {
        "id": "oy1zeZZKzz1a",
        "colab_type": "code",
        "colab": {}
      },
      "source": [
        "from google.colab import drive\n",
        "drive.mount('/content/drive', force_remount=True)"
      ],
      "execution_count": 0,
      "outputs": []
    },
    {
      "cell_type": "code",
      "metadata": {
        "id": "c1f0yD9S0Cbh",
        "colab_type": "code",
        "colab": {}
      },
      "source": [
        "path='/content/drive/My Drive/analisis de datos/hcc-data-complete-balanced.csv'\n",
        "df=pd.read_csv(path)"
      ],
      "execution_count": 0,
      "outputs": []
    },
    {
      "cell_type": "code",
      "metadata": {
        "id": "fuapQ4XKobi_",
        "colab_type": "code",
        "colab": {}
      },
      "source": [
        "df"
      ],
      "execution_count": 0,
      "outputs": []
    },
    {
      "cell_type": "code",
      "metadata": {
        "id": "rXiEjHSA3oZh",
        "colab_type": "code",
        "colab": {}
      },
      "source": [
        "from sklearn.model_selection import train_test_split\n",
        "from sklearn.pipeline import Pipeline\n",
        "from sklearn.model_selection import cross_val_score\n",
        "from sklearn import preprocessing\n",
        "from sklearn.preprocessing import StandardScaler"
      ],
      "execution_count": 0,
      "outputs": []
    },
    {
      "cell_type": "code",
      "metadata": {
        "id": "klZLokVJ3rY1",
        "colab_type": "code",
        "colab": {}
      },
      "source": [
        "x = df.drop(['Class'], axis=1) \n",
        "y=df['Class']\n",
        "x_train, x_test, y_train, y_test = train_test_split(x, y,stratify=y, test_size=0.2, random_state=42)"
      ],
      "execution_count": 0,
      "outputs": []
    },
    {
      "cell_type": "code",
      "metadata": {
        "id": "ECk6p-SO3rwa",
        "colab_type": "code",
        "colab": {}
      },
      "source": [
        "#normalizamos datos\n",
        "from sklearn import preprocessing\n",
        "\n",
        "scaler=preprocessing.StandardScaler().fit(x_train)\n",
        "\n",
        "x_train_transformed=scaler.transform(x_train)\n",
        "x_test_transformed=scaler.transform(x_test)\n",
        "\n",
        "y_train_transformed=y_train\n",
        "y_test_transformed=y_test"
      ],
      "execution_count": 0,
      "outputs": []
    },
    {
      "cell_type": "markdown",
      "metadata": {
        "id": "nWHSB_151OEp",
        "colab_type": "text"
      },
      "source": [
        "**Modelo basado en una Máquina de Vectores Soporte sobre el espacio original**"
      ]
    },
    {
      "cell_type": "code",
      "metadata": {
        "id": "XBTyEdER_8K5",
        "colab_type": "code",
        "colab": {}
      },
      "source": [
        "from sklearn.metrics import confusion_matrix\n",
        "from sklearn.svm import SVC"
      ],
      "execution_count": 0,
      "outputs": []
    },
    {
      "cell_type": "code",
      "metadata": {
        "id": "Zi5Uyy6v1m7q",
        "colab_type": "code",
        "colab": {}
      },
      "source": [
        "def prestaciones(confusion):\n",
        "  precision=(confusion[0][0]+confusion[1][1])/(confusion[0][0]+confusion[0][1]+confusion[1][0]+confusion[1][1])\n",
        "  sensibilidad=(confusion[1][1])/(confusion[1][0]+confusion[1][1])\n",
        "  especificidad=(confusion[0][0])/(confusion[0][0]+confusion[0][1])\n",
        "  print('Especificidad: ', especificidad)\n",
        "  print('Sensibilidad: ', sensibilidad)\n",
        "  print('Precision: ', precision)"
      ],
      "execution_count": 0,
      "outputs": []
    },
    {
      "cell_type": "code",
      "metadata": {
        "id": "H9kto2S-1nMY",
        "colab_type": "code",
        "colab": {}
      },
      "source": [
        "x_trainreal, x_validation, y_trainreal, y_validation = train_test_split(x_train_transformed, y_train_transformed, test_size=0.2, random_state=42)"
      ],
      "execution_count": 0,
      "outputs": []
    },
    {
      "cell_type": "markdown",
      "metadata": {
        "id": "-91P1K9W2X2_",
        "colab_type": "text"
      },
      "source": [
        "**Gamma=0.01, C=1**"
      ]
    },
    {
      "cell_type": "code",
      "metadata": {
        "id": "N5voHob72WvJ",
        "colab_type": "code",
        "colab": {}
      },
      "source": [
        "sigmakernel1=SVC(kernel='rbf',C=1.0,gamma=0.01)\n",
        "sigmakernel1.fit(x_trainreal,np.ravel(y_trainreal))\n",
        "\n",
        "y_pred_val=sigmakernel1.predict(x_validation)\n",
        "matriz=confusion_matrix(y_validation,y_pred_val)\n",
        "print(matriz)\n",
        "print(prestaciones(matriz))"
      ],
      "execution_count": 0,
      "outputs": []
    },
    {
      "cell_type": "code",
      "metadata": {
        "id": "GMkpzwL22fZG",
        "colab_type": "code",
        "colab": {}
      },
      "source": [
        "y_pred=sigmakernel1.predict(x_test_transformed)\n",
        "matriz=confusion_matrix(y_test_transformed,y_pred)\n",
        "print(matriz)\n",
        "print(prestaciones(matriz))"
      ],
      "execution_count": 0,
      "outputs": []
    },
    {
      "cell_type": "markdown",
      "metadata": {
        "id": "0yPzvMTp2mHi",
        "colab_type": "text"
      },
      "source": [
        "**Gamma=0.01, C=100**"
      ]
    },
    {
      "cell_type": "code",
      "metadata": {
        "id": "mejMuRNZ2fm-",
        "colab_type": "code",
        "colab": {}
      },
      "source": [
        "sigmakernel2=SVC(kernel='rbf',C=100.0,gamma=0.01)\n",
        "sigmakernel2.fit(x_trainreal,np.ravel(y_trainreal))\n",
        "\n",
        "y_pred_val=sigmakernel2.predict(x_validation)\n",
        "matriz=confusion_matrix(y_validation,y_pred_val)\n",
        "print(matriz)\n",
        "print(prestaciones(matriz))"
      ],
      "execution_count": 0,
      "outputs": []
    },
    {
      "cell_type": "code",
      "metadata": {
        "id": "R7Qt6w3n2qfy",
        "colab_type": "code",
        "colab": {}
      },
      "source": [
        "y_pred=sigmakernel2.predict(x_test_transformed)\n",
        "matriz=confusion_matrix(y_test_transformed,y_pred)\n",
        "print(matriz)\n",
        "print(prestaciones(matriz))"
      ],
      "execution_count": 0,
      "outputs": []
    },
    {
      "cell_type": "code",
      "metadata": {
        "id": "-4GH3QiWGffp",
        "colab_type": "code",
        "colab": {}
      },
      "source": [
        ""
      ],
      "execution_count": 0,
      "outputs": []
    }
  ]
}