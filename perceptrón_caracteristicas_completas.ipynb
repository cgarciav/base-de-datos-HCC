{
  "nbformat": 4,
  "nbformat_minor": 0,
  "metadata": {
    "colab": {
      "name": "perceptrón caracteristicas completas",
      "provenance": [],
      "collapsed_sections": [],
      "include_colab_link": true
    },
    "kernelspec": {
      "display_name": "Python 3",
      "name": "python3"
    },
    "language_info": {
      "codemirror_mode": {
        "name": "ipython",
        "version": 3
      },
      "file_extension": ".py",
      "mimetype": "text/x-python",
      "name": "python",
      "nbconvert_exporter": "python",
      "pygments_lexer": "ipython3",
      "version": "3.5.2"
    }
  },
  "cells": [
    {
      "cell_type": "markdown",
      "metadata": {
        "id": "view-in-github",
        "colab_type": "text"
      },
      "source": [
        "<a href=\"https://colab.research.google.com/github/cgarciav/base-de-datos-HCC/blob/master/perceptr%C3%B3n_caracteristicas_completas.ipynb\" target=\"_parent\"><img src=\"https://colab.research.google.com/assets/colab-badge.svg\" alt=\"Open In Colab\"/></a>"
      ]
    },
    {
      "cell_type": "markdown",
      "metadata": {
        "id": "oUvRJDIhJY1_",
        "colab_type": "text"
      },
      "source": [
        "**TAREA 5** "
      ]
    },
    {
      "cell_type": "code",
      "metadata": {
        "colab_type": "code",
        "id": "0trJmd6DjqBZ",
        "colab": {}
      },
      "source": [
        "from __future__ import absolute_import, division, print_function, unicode_literals\n",
        "#%load_ext tensorboard    Carga de Tensorboard (opcional)\n",
        "# Install TensorFlow\n",
        "try:\n",
        "  # %tensorflow_version only exists in Colab.\n",
        "  %tensorflow_version 2.x\n",
        "except Exception:\n",
        "  pass\n",
        "\n",
        "import tensorflow as tf #libreria de google que permite hacer deeplearning\n",
        "from tensorflow import keras #libreria de alto nivel\n",
        "import matplotlib.pyplot as plt\n",
        "from datetime import datetime\n",
        "import numpy as np\n",
        "import random\n",
        "import pandas as pd"
      ],
      "execution_count": 0,
      "outputs": []
    },
    {
      "cell_type": "code",
      "metadata": {
        "id": "oy1zeZZKzz1a",
        "colab_type": "code",
        "colab": {}
      },
      "source": [
        "from google.colab import drive\n",
        "drive.mount('/content/drive', force_remount=True)"
      ],
      "execution_count": 0,
      "outputs": []
    },
    {
      "cell_type": "code",
      "metadata": {
        "id": "c1f0yD9S0Cbh",
        "colab_type": "code",
        "colab": {}
      },
      "source": [
        "path='/content/drive/My Drive/analisis de datos/hcc-data-complete-balanced.csv'\n",
        "df=pd.read_csv(path)"
      ],
      "execution_count": 0,
      "outputs": []
    },
    {
      "cell_type": "code",
      "metadata": {
        "id": "fuapQ4XKobi_",
        "colab_type": "code",
        "colab": {}
      },
      "source": [
        "df"
      ],
      "execution_count": 0,
      "outputs": []
    },
    {
      "cell_type": "code",
      "metadata": {
        "id": "rXiEjHSA3oZh",
        "colab_type": "code",
        "colab": {}
      },
      "source": [
        "from sklearn.model_selection import train_test_split\n",
        "from sklearn.pipeline import Pipeline\n",
        "from sklearn.model_selection import cross_val_score\n",
        "from sklearn import preprocessing\n",
        "from sklearn.preprocessing import StandardScaler"
      ],
      "execution_count": 0,
      "outputs": []
    },
    {
      "cell_type": "code",
      "metadata": {
        "id": "klZLokVJ3rY1",
        "colab_type": "code",
        "colab": {}
      },
      "source": [
        "x = df.drop(['Class'], axis=1) \n",
        "y=df['Class']\n",
        "\n",
        "x_train, x_test, y_train, y_test = train_test_split(x, y,stratify=y, test_size=0.2, random_state=42)"
      ],
      "execution_count": 0,
      "outputs": []
    },
    {
      "cell_type": "code",
      "metadata": {
        "id": "ECk6p-SO3rwa",
        "colab_type": "code",
        "colab": {}
      },
      "source": [
        "#normalizamos datos\n",
        "from sklearn import preprocessing\n",
        "\n",
        "scaler=preprocessing.StandardScaler().fit(x_train)\n",
        "\n",
        "x_train_transformed=scaler.transform(x_train)\n",
        "x_test_transformed=scaler.transform(x_test)\n",
        "\n",
        "y_train_transformed=y_train\n",
        "y_test_transformed=y_test"
      ],
      "execution_count": 0,
      "outputs": []
    },
    {
      "cell_type": "code",
      "metadata": {
        "id": "RbEJ9OFT3rlR",
        "colab_type": "code",
        "colab": {}
      },
      "source": [
        "from keras.models import Sequential\n",
        "from keras.layers import Dense\n",
        "\n",
        "seed = 7\n",
        "np.random.seed(seed)"
      ],
      "execution_count": 0,
      "outputs": []
    },
    {
      "cell_type": "code",
      "metadata": {
        "id": "g9XE4gTZrFXn",
        "colab_type": "code",
        "colab": {}
      },
      "source": [
        "from keras.models import Sequential\n",
        "from keras.layers import Dense"
      ],
      "execution_count": 0,
      "outputs": []
    },
    {
      "cell_type": "markdown",
      "metadata": {
        "id": "yv9_mxvUpJ82",
        "colab_type": "text"
      },
      "source": [
        "MODELO 1"
      ]
    },
    {
      "cell_type": "code",
      "metadata": {
        "id": "ge81EDBApM8A",
        "colab_type": "code",
        "colab": {}
      },
      "source": [
        "n_hidden_1 = tf.keras.models.Sequential([\n",
        "  tf.keras.layers.InputLayer(input_shape=49), \n",
        "  tf.keras.layers.Dense(40, kernel_initializer='random_normal', bias_initializer='zeros', activation='relu'),\n",
        "  tf.keras.layers.Dense(2, kernel_initializer='random_normal', bias_initializer='zeros', activation='softmax'),\n",
        "])\n",
        "n_hidden_1.summary() "
      ],
      "execution_count": 0,
      "outputs": []
    },
    {
      "cell_type": "code",
      "metadata": {
        "id": "wHs9r3zbpNNE",
        "colab_type": "code",
        "colab": {}
      },
      "source": [
        "optimizador=keras.optimizers.Adam(learning_rate=0.01) \n",
        "n_hidden_1.compile(optimizer=optimizador,\n",
        "                   loss='sparse_categorical_crossentropy', #entropia cruzada \n",
        "                   metrics=['accuracy'])"
      ],
      "execution_count": 0,
      "outputs": []
    },
    {
      "cell_type": "code",
      "metadata": {
        "id": "oPEMTvq2pt4A",
        "colab_type": "code",
        "colab": {}
      },
      "source": [
        "early_stop = tf.keras.callbacks.EarlyStopping(monitor='val_accuracy',min_delta=1,mode='max') #cuando varíe en un uno por ciento que pare."
      ],
      "execution_count": 0,
      "outputs": []
    },
    {
      "cell_type": "code",
      "metadata": {
        "id": "w6tL2C_wpuFS",
        "colab_type": "code",
        "colab": {}
      },
      "source": [
        "n_hidden_1.fit(x_train_transformed, y_train_transformed, epochs=4, validation_split=0.2,  batch_size=10, callbacks=[early_stop], shuffle=True)"
      ],
      "execution_count": 0,
      "outputs": []
    },
    {
      "cell_type": "code",
      "metadata": {
        "id": "1gCwqqohp8F0",
        "colab_type": "code",
        "colab": {}
      },
      "source": [
        "n_hidden_1.evaluate(x_test_transformed,  y_test_transformed, verbose=2) #obtengo valores de mi perdida y accuracy"
      ],
      "execution_count": 0,
      "outputs": []
    },
    {
      "cell_type": "markdown",
      "metadata": {
        "id": "ILC5Bhm6xYkA",
        "colab_type": "text"
      },
      "source": [
        "MODELO 2"
      ]
    },
    {
      "cell_type": "code",
      "metadata": {
        "id": "ERGXQLupqBzA",
        "colab_type": "code",
        "colab": {}
      },
      "source": [
        "n_hidden_2 = tf.keras.models.Sequential([\n",
        "  tf.keras.layers.InputLayer(input_shape=49), \n",
        "  tf.keras.layers.Dense(150, kernel_initializer='random_normal', bias_initializer='zeros', activation='relu'),\n",
        "  tf.keras.layers.Dense(2, kernel_initializer='random_normal', bias_initializer='zeros', activation='softmax'),\n",
        "])\n",
        "n_hidden_2.summary() "
      ],
      "execution_count": 0,
      "outputs": []
    },
    {
      "cell_type": "markdown",
      "metadata": {
        "id": "eoQuZjjex-Ym",
        "colab_type": "text"
      },
      "source": [
        "Una vez creado, compilamos el modelo, eligiendo la función de coste y el optimizador que emplearemos para entrenarlo. "
      ]
    },
    {
      "cell_type": "code",
      "metadata": {
        "id": "-C1iUAvTqBun",
        "colab_type": "code",
        "colab": {}
      },
      "source": [
        "optimizador=keras.optimizers.Adam(learning_rate=0.1) \n",
        "n_hidden_2.compile(optimizer=optimizador,\n",
        "                   loss='sparse_categorical_crossentropy', #entropia cruzada \n",
        "                   metrics=['accuracy'])"
      ],
      "execution_count": 0,
      "outputs": []
    },
    {
      "cell_type": "code",
      "metadata": {
        "id": "UJlkVFYuqBrF",
        "colab_type": "code",
        "colab": {}
      },
      "source": [
        "early_stop = tf.keras.callbacks.EarlyStopping(monitor='val_accuracy',min_delta=1,mode='max') #cuando varíe en un uno por ciento que pare."
      ],
      "execution_count": 0,
      "outputs": []
    },
    {
      "cell_type": "code",
      "metadata": {
        "id": "woKz2UMtqBnZ",
        "colab_type": "code",
        "colab": {}
      },
      "source": [
        "n_hidden_2.fit(x_train_transformed, y_train_transformed, epochs=250,validation_split=0.3, batch_size=25, callbacks=[early_stop], shuffle=True) #el epochs me dice cada uno de los entrenamientos de la base de datos con la red"
      ],
      "execution_count": 0,
      "outputs": []
    },
    {
      "cell_type": "code",
      "metadata": {
        "id": "SN9P81zVqBjn",
        "colab_type": "code",
        "colab": {}
      },
      "source": [
        "n_hidden_2.evaluate(x_test_transformed,  y_test_transformed, verbose=2)"
      ],
      "execution_count": 0,
      "outputs": []
    },
    {
      "cell_type": "markdown",
      "metadata": {
        "id": "UYs_b_3ryde2",
        "colab_type": "text"
      },
      "source": [
        "MODELO 3"
      ]
    },
    {
      "cell_type": "code",
      "metadata": {
        "id": "G36wxgi6qBfk",
        "colab_type": "code",
        "colab": {}
      },
      "source": [
        "n_hidden_3 = tf.keras.models.Sequential([\n",
        "  tf.keras.layers.InputLayer(input_shape=49), \n",
        "  tf.keras.layers.Dense(1100, kernel_initializer='random_normal', bias_initializer='zeros', activation='relu'),\n",
        "  tf.keras.layers.Dense(2, kernel_initializer='random_normal', bias_initializer='zeros', activation='softmax'),\n",
        "])\n",
        "n_hidden_3.summary()"
      ],
      "execution_count": 0,
      "outputs": []
    },
    {
      "cell_type": "code",
      "metadata": {
        "id": "yYzU_watqBaW",
        "colab_type": "code",
        "colab": {}
      },
      "source": [
        "optimizador=keras.optimizers.Adam(learning_rate=0.003) \n",
        "n_hidden_3.compile(optimizer=optimizador,\n",
        "                   loss='sparse_categorical_crossentropy', #entropia cruzada \n",
        "                   metrics=['accuracy'])"
      ],
      "execution_count": 0,
      "outputs": []
    },
    {
      "cell_type": "code",
      "metadata": {
        "id": "zSra0Ls9yoE5",
        "colab_type": "code",
        "colab": {}
      },
      "source": [
        "early_stop = tf.keras.callbacks.EarlyStopping(monitor='val_accuracy',min_delta=1,mode='max') #cuando varíe en un uno por ciento que pare."
      ],
      "execution_count": 0,
      "outputs": []
    },
    {
      "cell_type": "code",
      "metadata": {
        "id": "sGYCsWaPyoRm",
        "colab_type": "code",
        "colab": {}
      },
      "source": [
        "n_hidden_3.fit(x_train_transformed, y_train_transformed, epochs=150,  batch_size=25, validation_split=0.3, callbacks=[early_stop], shuffle=True)"
      ],
      "execution_count": 0,
      "outputs": []
    },
    {
      "cell_type": "code",
      "metadata": {
        "id": "53C3f4JEyofn",
        "colab_type": "code",
        "colab": {}
      },
      "source": [
        "n_hidden_3.evaluate(x_test_transformed,  y_test_transformed, verbose=2)"
      ],
      "execution_count": 0,
      "outputs": []
    },
    {
      "cell_type": "code",
      "metadata": {
        "id": "QzrHeNvWWKUN",
        "colab_type": "code",
        "colab": {}
      },
      "source": [
        ""
      ],
      "execution_count": 0,
      "outputs": []
    }
  ]
}